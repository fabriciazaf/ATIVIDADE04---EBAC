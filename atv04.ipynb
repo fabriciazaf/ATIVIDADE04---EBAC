{
 "cells": [
  {
   "cell_type": "markdown",
   "id": "29071718-7670-4be9-98c0-1d8fcab1f8de",
   "metadata": {},
   "source": [
    "# Tarefa 01\n",
    "#### 1)  crie uma série do pandas a partir de uma lista com os dados abaixo:\n",
    "\n",
    "Em um estudo sobre alteração na tempreatura global, A NASA disponibiliza dados de diferenças de de temperatura média da superfície terrestre relativos às médias de temperatura entre 1951 e 1980. Os dados originais podem ser vistos no site da NASA/GISS, e estão dispostos a cada década na tabela abaixo.\n",
    "\n",
    "|ano|anomalia termica|\n",
    "|:-:|:----:|\n",
    "| 1900 | -0.08 |\n",
    "| 1920 | -0.27 |\n",
    "| 1940 | 0.12 |\n",
    "| 1960 | -0.03 |\n",
    "| 1980 | 0.26 |\n",
    "| 2000 | 0.40 |\n",
    "| 2020 | 1.02 |\n",
    "\n",
    "Crie uma séries do Pandas a partir de uma lista com esses dados."
   ]
  },
  {
   "cell_type": "code",
   "execution_count": 21,
   "id": "6cb1ea55-286a-484f-8864-ded830bfb19e",
   "metadata": {},
   "outputs": [
    {
     "data": {
      "text/plain": [
       "1900   -0.08\n",
       "1920   -0.27\n",
       "1940    0.12\n",
       "1960    0.03\n",
       "1980    0.26\n",
       "2000    0.40\n",
       "2020    1.02\n",
       "dtype: float64"
      ]
     },
     "execution_count": 21,
     "metadata": {},
     "output_type": "execute_result"
    }
   ],
   "source": [
    "I e IIimport pandas as pd\n",
    "import numpy as np\n",
    "\n",
    "# Define o índice e os dados da série\n",
    "indice = [1900, 1920, 1940, 1960, 1980, 2000, 2020]\n",
    "dados = [-0.08, -0.27, 0.12, 0.03, 0.26, 0.40, 1.02]\n",
    "\n",
    "# Cria a série\n",
    "pd.Series(data=dados, index=indice)\n",
    "\n"
   ]
  },
  {
   "cell_type": "markdown",
   "id": "07fd7b0a-e416-4d41-b830-09d98f380084",
   "metadata": {},
   "source": [
    "#### 3) A partir do dicionário abaixo, crie uma séries do Pandas:"
   ]
  },
  {
   "cell_type": "code",
   "execution_count": 26,
   "id": "f306fb55-fd40-4a1f-b693-db0013dbc513",
   "metadata": {},
   "outputs": [
    {
     "name": "stdout",
     "output_type": "stream",
     "text": [
      "1900   -0.08\n",
      "1920   -0.27\n",
      "1940    0.12\n",
      "1960   -0.03\n",
      "1980    0.26\n",
      "2000    0.40\n",
      "2020    1.02\n",
      "dtype: float64\n"
     ]
    }
   ],
   "source": [
    "# Dicionário com os dados de temperatura\n",
    "dic_temperaturas = {1900: -0.08, 1920: -0.27, 1940: 0.12, 1960: -0.03, 1980: 0.26, 2000: 0.40, 2020: 1.02}\n",
    "\n",
    "\n",
    "# Cria a série a partir do dicionário\n",
    "serie_temperaturas = pd.Series(dic_temperaturas)\n",
    "\n",
    "#exibe a série\n",
    "\n",
    "print(serie_temperaturas)\n"
   ]
  },
  {
   "cell_type": "markdown",
   "id": "a4c4c8be-d0d2-4333-8f38-3c1575b1c64f",
   "metadata": {},
   "source": [
    "#### 4) Transforme o ndarray abaixo em um dataframe. \n",
    "O numpy é capaz de gerar arrays n-dimensionais com números pseudo-aleatórios de acordo com uma variedade de distribuições, como no exemplo abaixo. Transforme esse nd-array em um DataFrame."
   ]
  },
  {
   "cell_type": "code",
   "execution_count": 75,
   "id": "46ff7d6a-5146-4fff-ad81-a3c0a6aca21a",
   "metadata": {},
   "outputs": [
    {
     "name": "stdout",
     "output_type": "stream",
     "text": [
      "       coluna1     coluna2     coluna3\n",
      "0    99.485568  107.277689  103.424039\n",
      "1   103.105850  107.896776  102.844542\n",
      "2   101.260637  107.227215   92.943321\n",
      "3    95.319466  115.169044  100.806901\n",
      "4    94.186593   79.332546   87.326463\n",
      "5    99.705000  110.074623  109.050934\n",
      "6    91.465148  101.732612   97.883616\n",
      "7   111.605042   92.781832   98.392674\n",
      "8    86.648326  111.172810   86.739383\n",
      "9    92.009118  105.216843  109.991207\n",
      "10   83.824806   89.058213   98.740175\n",
      "11  108.859133   98.404137  117.007367\n",
      "12  105.439682  110.159505  106.845431\n",
      "13   87.965651  103.130296   89.459430\n",
      "14   91.615594   94.346285  101.673835\n",
      "15   82.588002   90.294252   92.959665\n",
      "16   94.138941  104.499317  118.541219\n",
      "17   85.347919   96.176177   90.385710\n",
      "18   99.041881  109.661961   89.596347\n",
      "19   98.196685   73.502794  105.658434\n"
     ]
    }
   ],
   "source": [
    "import pandas as pd\n",
    "import numpy as np\n",
    "\n",
    "# Gera o array com distribuição normal / Esse código cria um DataFrame com 03 colunas e 20 linhas\n",
    "arr = np.random.normal(100, 10, (20,3))\n",
    "\n",
    "# Assim, o array arr é convertido em um DataFrame\n",
    "df = pd.DataFrame(arr, columns=['coluna1', 'coluna2', 'coluna3'])\n",
    "\n",
    "#exibe\n",
    "print(df)\n",
    "\n"
   ]
  },
  {
   "cell_type": "markdown",
   "id": "23cb73e5-c0e1-4491-b18e-b074f025673d",
   "metadata": {},
   "source": [
    "#### 5) Nomeie os índices das linhas com inteiros de 1 a 20, e as colunas com os nomes \"x1\", \"x2\", e \"x3\" respectivamente."
   ]
  },
  {
   "cell_type": "code",
   "execution_count": 77,
   "id": "94384acb-891d-4943-bee3-5a6244fc2c69",
   "metadata": {},
   "outputs": [
    {
     "name": "stdout",
     "output_type": "stream",
     "text": [
      "            x1          x2          x3\n",
      "1    99.485568  107.277689  103.424039\n",
      "2   103.105850  107.896776  102.844542\n",
      "3   101.260637  107.227215   92.943321\n",
      "4    95.319466  115.169044  100.806901\n",
      "5    94.186593   79.332546   87.326463\n",
      "6    99.705000  110.074623  109.050934\n",
      "7    91.465148  101.732612   97.883616\n",
      "8   111.605042   92.781832   98.392674\n",
      "9    86.648326  111.172810   86.739383\n",
      "10   92.009118  105.216843  109.991207\n",
      "11   83.824806   89.058213   98.740175\n",
      "12  108.859133   98.404137  117.007367\n",
      "13  105.439682  110.159505  106.845431\n",
      "14   87.965651  103.130296   89.459430\n",
      "15   91.615594   94.346285  101.673835\n",
      "16   82.588002   90.294252   92.959665\n",
      "17   94.138941  104.499317  118.541219\n",
      "18   85.347919   96.176177   90.385710\n",
      "19   99.041881  109.661961   89.596347\n",
      "20   98.196685   73.502794  105.658434\n"
     ]
    }
   ],
   "source": [
    "import pandas as pd\n",
    "import numpy as np\n",
    "\n",
    "# Transforma o array em um DataFrame, nomeando os índices e as colunas\n",
    "df = pd.DataFrame(arr, columns=['x1', 'x2', 'x3'], index=range(1, 21))\n",
    "\n",
    "# Exibe o DataFrame\n",
    "print(df)\n"
   ]
  },
  {
   "cell_type": "markdown",
   "id": "80bb509f-4b76-47f0-835e-ad62bf45fd9a",
   "metadata": {},
   "source": [
    "#### 6) No DataFrame do exercício 5, crie uma nova coluna como sendo a média das três colunas, e dê a ela o nome de \"media\" (não recomendo colocar acentos em nomes de variáveis).\n"
   ]
  },
  {
   "cell_type": "code",
   "execution_count": 79,
   "id": "426645c2-854e-4f08-8ed3-20da6d981e90",
   "metadata": {},
   "outputs": [
    {
     "name": "stdout",
     "output_type": "stream",
     "text": [
      "            x1          x2          x3       media\n",
      "1    99.485568  107.277689  103.424039  103.395766\n",
      "2   103.105850  107.896776  102.844542  104.615723\n",
      "3   101.260637  107.227215   92.943321  100.477058\n",
      "4    95.319466  115.169044  100.806901  103.765137\n",
      "5    94.186593   79.332546   87.326463   86.948534\n",
      "6    99.705000  110.074623  109.050934  106.276852\n",
      "7    91.465148  101.732612   97.883616   97.027125\n",
      "8   111.605042   92.781832   98.392674  100.926516\n",
      "9    86.648326  111.172810   86.739383   94.853506\n",
      "10   92.009118  105.216843  109.991207  102.405723\n",
      "11   83.824806   89.058213   98.740175   90.541065\n",
      "12  108.859133   98.404137  117.007367  108.090212\n",
      "13  105.439682  110.159505  106.845431  107.481539\n",
      "14   87.965651  103.130296   89.459430   93.518459\n",
      "15   91.615594   94.346285  101.673835   95.878571\n",
      "16   82.588002   90.294252   92.959665   88.613973\n",
      "17   94.138941  104.499317  118.541219  105.726492\n",
      "18   85.347919   96.176177   90.385710   90.636602\n",
      "19   99.041881  109.661961   89.596347   99.433396\n",
      "20   98.196685   73.502794  105.658434   92.452637\n"
     ]
    }
   ],
   "source": [
    "# Criando a nova coluna 'media' com a média das três colunas\n",
    "df['media'] = df[['x1', 'x2', 'x3']].mean(axis=1)\n",
    "\n",
    "# Exibindo o DataFrame\n",
    "print(df)"
   ]
  },
  {
   "cell_type": "markdown",
   "id": "1ceb8936-9889-49e3-9558-97e63c144241",
   "metadata": {},
   "source": [
    "#### 7) No DataFrame do exercício 6, crie uma nova coluna chamada \"log_med\", contendo o logaritmo natural da média calculada no exercício 6 <br>"
   ]
  },
  {
   "cell_type": "code",
   "execution_count": 81,
   "id": "9d304b41-2edf-4587-9fcd-aa3b259930aa",
   "metadata": {},
   "outputs": [
    {
     "name": "stdout",
     "output_type": "stream",
     "text": [
      "            x1          x2          x3       media   log_med\n",
      "1    99.485568  107.277689  103.424039  103.395766  4.638564\n",
      "2   103.105850  107.896776  102.844542  104.615723  4.650294\n",
      "3   101.260637  107.227215   92.943321  100.477058  4.609929\n",
      "4    95.319466  115.169044  100.806901  103.765137  4.642130\n",
      "5    94.186593   79.332546   87.326463   86.948534  4.465316\n",
      "6    99.705000  110.074623  109.050934  106.276852  4.666048\n",
      "7    91.465148  101.732612   97.883616   97.027125  4.574991\n",
      "8   111.605042   92.781832   98.392674  100.926516  4.614393\n",
      "9    86.648326  111.172810   86.739383   94.853506  4.552334\n",
      "10   92.009118  105.216843  109.991207  102.405723  4.628943\n",
      "11   83.824806   89.058213   98.740175   90.541065  4.505804\n",
      "12  108.859133   98.404137  117.007367  108.090212  4.682966\n",
      "13  105.439682  110.159505  106.845431  107.481539  4.677319\n",
      "14   87.965651  103.130296   89.459430   93.518459  4.538159\n",
      "15   91.615594   94.346285  101.673835   95.878571  4.563083\n",
      "16   82.588002   90.294252   92.959665   88.613973  4.484290\n",
      "17   94.138941  104.499317  118.541219  105.726492  4.660855\n",
      "18   85.347919   96.176177   90.385710   90.636602  4.506858\n",
      "19   99.041881  109.661961   89.596347   99.433396  4.599488\n",
      "20   98.196685   73.502794  105.658434   92.452637  4.526696\n"
     ]
    }
   ],
   "source": [
    "# Criando a coluna 'log_med' com o logaritmo natural da coluna 'media'\n",
    "df['log_med'] = np.log(df['media'])\n",
    "\n",
    "# Exibindo o DataFrame resultante\n",
    "print(df)"
   ]
  },
  {
   "cell_type": "code",
   "execution_count": 83,
   "id": "7e8a308b-8995-422c-a7cb-060d84555556",
   "metadata": {},
   "outputs": [
    {
     "name": "stdout",
     "output_type": "stream",
     "text": [
      "            x1          x2          x3   media  log_med\n",
      "1    99.485568  107.277689  103.424039  103.40     4.64\n",
      "2   103.105850  107.896776  102.844542  104.62     4.65\n",
      "3   101.260637  107.227215   92.943321  100.48     4.61\n",
      "4    95.319466  115.169044  100.806901  103.77     4.64\n",
      "5    94.186593   79.332546   87.326463   86.95     4.47\n",
      "6    99.705000  110.074623  109.050934  106.28     4.67\n",
      "7    91.465148  101.732612   97.883616   97.03     4.57\n",
      "8   111.605042   92.781832   98.392674  100.93     4.61\n",
      "9    86.648326  111.172810   86.739383   94.85     4.55\n",
      "10   92.009118  105.216843  109.991207  102.41     4.63\n",
      "11   83.824806   89.058213   98.740175   90.54     4.51\n",
      "12  108.859133   98.404137  117.007367  108.09     4.68\n",
      "13  105.439682  110.159505  106.845431  107.48     4.68\n",
      "14   87.965651  103.130296   89.459430   93.52     4.54\n",
      "15   91.615594   94.346285  101.673835   95.88     4.56\n",
      "16   82.588002   90.294252   92.959665   88.61     4.48\n",
      "17   94.138941  104.499317  118.541219  105.73     4.66\n",
      "18   85.347919   96.176177   90.385710   90.64     4.51\n",
      "19   99.041881  109.661961   89.596347   99.43     4.60\n",
      "20   98.196685   73.502794  105.658434   92.45     4.53\n"
     ]
    }
   ],
   "source": [
    "# Arredondando a média e o logaritmo para 2 casas decimais\n",
    "df['media'] = df['media'].round(2)\n",
    "df['log_med'] = df['log_med'].round(2)\n",
    "\n",
    "# Exibindo o DataFrame resultante\n",
    "print(df)"
   ]
  },
  {
   "cell_type": "code",
   "execution_count": null,
   "id": "4745912f-6c51-413c-aec9-22e8dc0b7efa",
   "metadata": {},
   "outputs": [],
   "source": []
  }
 ],
 "metadata": {
  "kernelspec": {
   "display_name": "Python 3 (ipykernel)",
   "language": "python",
   "name": "python3"
  },
  "language_info": {
   "codemirror_mode": {
    "name": "ipython",
    "version": 3
   },
   "file_extension": ".py",
   "mimetype": "text/x-python",
   "name": "python",
   "nbconvert_exporter": "python",
   "pygments_lexer": "ipython3",
   "version": "3.12.4"
  }
 },
 "nbformat": 4,
 "nbformat_minor": 5
}
